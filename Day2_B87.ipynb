{
 "cells": [
  {
   "cell_type": "code",
   "execution_count": 9,
   "id": "b11f63b6-2053-4280-bc96-1b55cfdfc9ef",
   "metadata": {},
   "outputs": [
    {
     "name": "stdout",
     "output_type": "stream",
     "text": [
      "Hello world\n"
     ]
    }
   ],
   "source": [
    "print('Hello world')"
   ]
  },
  {
   "cell_type": "code",
   "execution_count": 11,
   "id": "01dee932-95a8-46b0-8059-f7a697258282",
   "metadata": {},
   "outputs": [
    {
     "ename": "NameError",
     "evalue": "name 'variables' is not defined",
     "output_type": "error",
     "traceback": [
      "\u001b[1;31m---------------------------------------------------------------------------\u001b[0m",
      "\u001b[1;31mNameError\u001b[0m                                 Traceback (most recent call last)",
      "Cell \u001b[1;32mIn[11], line 1\u001b[0m\n\u001b[1;32m----> 1\u001b[0m variables\n\u001b[0;32m      2\u001b[0m x \u001b[38;5;241m=\u001b[39m \u001b[38;5;241m2\u001b[39m\n\u001b[0;32m      3\u001b[0m z \u001b[38;5;241m=\u001b[39m \u001b[38;5;241m3\u001b[39m\n",
      "\u001b[1;31mNameError\u001b[0m: name 'variables' is not defined"
     ]
    }
   ],
   "source": [
    "variables"
   ]
  },
  {
   "cell_type": "code",
   "execution_count": 15,
   "id": "018e2405-41bf-4bf0-a9c5-77a5ee6db22c",
   "metadata": {},
   "outputs": [],
   "source": [
    "x=2"
   ]
  },
  {
   "cell_type": "code",
   "execution_count": 17,
   "id": "0cb23016-d7c5-4e04-bc04-73a6115f625a",
   "metadata": {},
   "outputs": [],
   "source": [
    "y=3"
   ]
  },
  {
   "cell_type": "code",
   "execution_count": 21,
   "id": "7aef1df9-d116-4673-a7e0-2c6ee828e566",
   "metadata": {},
   "outputs": [],
   "source": [
    "z = x+y"
   ]
  },
  {
   "cell_type": "code",
   "execution_count": 23,
   "id": "1bde678d-1aa3-4c69-88d5-91f4b4bf4bf2",
   "metadata": {},
   "outputs": [
    {
     "name": "stdout",
     "output_type": "stream",
     "text": [
      "5\n"
     ]
    }
   ],
   "source": [
    "print(z)"
   ]
  },
  {
   "cell_type": "code",
   "execution_count": 30,
   "id": "4bdd7199-a516-4f64-a4f8-5c6790583b8d",
   "metadata": {},
   "outputs": [
    {
     "ename": "SyntaxError",
     "evalue": "invalid syntax (2610839817.py, line 1)",
     "output_type": "error",
     "traceback": [
      "\u001b[1;36m  Cell \u001b[1;32mIn[30], line 1\u001b[1;36m\u001b[0m\n\u001b[1;33m    Intro to data type\u001b[0m\n\u001b[1;37m          ^\u001b[0m\n\u001b[1;31mSyntaxError\u001b[0m\u001b[1;31m:\u001b[0m invalid syntax\n"
     ]
    }
   ],
   "source": [
    "Intro to data type"
   ]
  },
  {
   "cell_type": "code",
   "execution_count": 32,
   "id": "71064ce7-4c46-4a42-828d-ac29ebbf73ed",
   "metadata": {},
   "outputs": [],
   "source": [
    "name = 'raju'"
   ]
  },
  {
   "cell_type": "code",
   "execution_count": 34,
   "id": "68bb348a-c8a2-4cf3-8d82-fd0d75692d8f",
   "metadata": {},
   "outputs": [
    {
     "name": "stdout",
     "output_type": "stream",
     "text": [
      "raju\n"
     ]
    }
   ],
   "source": [
    "print (name)"
   ]
  },
  {
   "cell_type": "code",
   "execution_count": 36,
   "id": "772cbd67-2b05-45a7-9d65-6880e618f20b",
   "metadata": {},
   "outputs": [],
   "source": [
    "name2 = \"joseph\""
   ]
  },
  {
   "cell_type": "code",
   "execution_count": 38,
   "id": "8ed29e74-65b5-4d24-a449-2015c20ef214",
   "metadata": {},
   "outputs": [
    {
     "name": "stdout",
     "output_type": "stream",
     "text": [
      "joseph\n"
     ]
    }
   ],
   "source": [
    "print(name2)"
   ]
  },
  {
   "cell_type": "code",
   "execution_count": 44,
   "id": "0f8198f1-7c63-4a2a-bb21-293893637ac5",
   "metadata": {},
   "outputs": [
    {
     "ename": "SyntaxError",
     "evalue": "invalid syntax (1576310062.py, line 1)",
     "output_type": "error",
     "traceback": [
      "\u001b[1;36m  Cell \u001b[1;32mIn[44], line 1\u001b[1;36m\u001b[0m\n\u001b[1;33m    intro to string methods;\u001b[0m\n\u001b[1;37m          ^\u001b[0m\n\u001b[1;31mSyntaxError\u001b[0m\u001b[1;31m:\u001b[0m invalid syntax\n"
     ]
    }
   ],
   "source": [
    "intro to string methods"
   ]
  },
  {
   "cell_type": "code",
   "execution_count": 46,
   "id": "315d31ac-920b-4170-8094-55ac012b2190",
   "metadata": {},
   "outputs": [
    {
     "data": {
      "text/plain": [
       "str"
      ]
     },
     "execution_count": 46,
     "metadata": {},
     "output_type": "execute_result"
    }
   ],
   "source": [
    "type (name)"
   ]
  },
  {
   "cell_type": "code",
   "execution_count": 48,
   "id": "9a851c9b-618c-4272-b5e3-1db7474de6db",
   "metadata": {},
   "outputs": [],
   "source": [
    "fullname = \"arul raj\""
   ]
  },
  {
   "cell_type": "code",
   "execution_count": 52,
   "id": "45f7bc4f-c7bb-4ae6-a55d-af3ec8fd97af",
   "metadata": {},
   "outputs": [
    {
     "name": "stdout",
     "output_type": "stream",
     "text": [
      "Arul Raj\n"
     ]
    }
   ],
   "source": [
    "print (fullname.title())"
   ]
  },
  {
   "cell_type": "code",
   "execution_count": 56,
   "id": "5ecebdf2-186a-4de1-b688-4af07b5be013",
   "metadata": {},
   "outputs": [
    {
     "name": "stdout",
     "output_type": "stream",
     "text": [
      "ARUL RAJ\n"
     ]
    }
   ],
   "source": [
    "print (fullname.upper())"
   ]
  },
  {
   "cell_type": "code",
   "execution_count": 58,
   "id": "b409b80d-b068-4b86-a1ba-41ec2bd7c741",
   "metadata": {},
   "outputs": [
    {
     "name": "stdout",
     "output_type": "stream",
     "text": [
      "arul raj\n"
     ]
    }
   ],
   "source": [
    "print(fullname.lower())"
   ]
  },
  {
   "cell_type": "code",
   "execution_count": null,
   "id": "a8dfb9a8-b450-4788-adad-70899e2a848b",
   "metadata": {},
   "outputs": [],
   "source": []
  }
 ],
 "metadata": {
  "kernelspec": {
   "display_name": "Python 3 (ipykernel)",
   "language": "python",
   "name": "python3"
  },
  "language_info": {
   "codemirror_mode": {
    "name": "ipython",
    "version": 3
   },
   "file_extension": ".py",
   "mimetype": "text/x-python",
   "name": "python",
   "nbconvert_exporter": "python",
   "pygments_lexer": "ipython3",
   "version": "3.12.4"
  }
 },
 "nbformat": 4,
 "nbformat_minor": 5
}
